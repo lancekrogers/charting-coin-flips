{
 "cells": [
  {
   "cell_type": "markdown",
   "metadata": {},
   "source": [
    "# Coin Flip"
   ]
  },
  {
   "cell_type": "code",
   "execution_count": 1,
   "metadata": {
    "collapsed": true
   },
   "outputs": [],
   "source": [
    "import random\n",
    "import math\n",
    "import statistics\n",
    "import matplotlib.pyplot as plt"
   ]
  },
  {
   "cell_type": "code",
   "execution_count": 32,
   "metadata": {
    "collapsed": false
   },
   "outputs": [],
   "source": [
    "\n",
    "\n",
    "\n",
    "class Coin:\n",
    "    \n",
    "    \n",
    "    \n",
    "    def __init__(self):\n",
    "        self.re_flips = []\n",
    "        self.tails = 0\n",
    "        self.heads = 0\n",
    "\n",
    "    def flip(self):  \n",
    "        self.a_flip = random.randint(0,1)\n",
    "        return self.a_flip\n",
    "    \n",
    "    \n",
    "    def re_flip(self, n):\n",
    "        for _ in range(n):\n",
    "            self.re_flips =  self.re_flips + [self.flip()]  \n",
    "            for x in self.re_flips:\n",
    "                if x == 0:\n",
    "                    self.heads = self.heads + 1\n",
    "                elif x == 1:\n",
    "                    self.tails = self.tails + 1\n",
    "                else:\n",
    "                    pass    \n",
    "        return self.re_flips\n",
    "\n",
    "\n",
    "\n",
    "\n",
    "\n",
    "\n"
   ]
  },
  {
   "cell_type": "code",
   "execution_count": 39,
   "metadata": {
    "collapsed": false
   },
   "outputs": [
    {
     "name": "stdout",
     "output_type": "stream",
     "text": [
      "44 34\n"
     ]
    }
   ],
   "source": [
    "coin = Coin()\n",
    "\n",
    "\n",
    "\n",
    "\n",
    "\n",
    "flips = coin.re_flip(12)\n",
    "print(coin.tails, coin.heads)"
   ]
  },
  {
   "cell_type": "code",
   "execution_count": null,
   "metadata": {
    "collapsed": false
   },
   "outputs": [],
   "source": [
    "\n"
   ]
  },
  {
   "cell_type": "code",
   "execution_count": null,
   "metadata": {
    "collapsed": true
   },
   "outputs": [],
   "source": []
  }
 ],
 "metadata": {
  "kernelspec": {
   "display_name": "Python 3",
   "language": "python",
   "name": "python3"
  },
  "language_info": {
   "codemirror_mode": {
    "name": "ipython",
    "version": 3
   },
   "file_extension": ".py",
   "mimetype": "text/x-python",
   "name": "python",
   "nbconvert_exporter": "python",
   "pygments_lexer": "ipython3",
   "version": "3.4.2"
  }
 },
 "nbformat": 4,
 "nbformat_minor": 0
}
