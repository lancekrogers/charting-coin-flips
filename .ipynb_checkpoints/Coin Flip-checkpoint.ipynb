{
 "cells": [
  {
   "cell_type": "markdown",
   "metadata": {},
   "source": [
    "# Coin Flip"
   ]
  },
  {
   "cell_type": "code",
   "execution_count": 1,
   "metadata": {
    "collapsed": true
   },
   "outputs": [],
   "source": [
    "import random\n",
    "import math\n",
    "\n",
    "import statistics\n",
    "import matplotlib.pyplot as plt\n"
   ]
  },
  {
   "cell_type": "code",
   "execution_count": 2,
   "metadata": {
    "collapsed": true
   },
   "outputs": [],
   "source": [
    "%matplotlib inline"
   ]
  },
  {
   "cell_type": "code",
   "execution_count": 3,
   "metadata": {
    "collapsed": false
   },
   "outputs": [],
   "source": [
    "\n",
    "\n",
    "\n",
    "class Coin:\n",
    "    \n",
    "    \n",
    "    \n",
    "    def __init__(self):\n",
    "        self.re_flips = []\n",
    "        self.tails = 0\n",
    "        self.heads = 0\n",
    "\n",
    "    def flip(self):  \n",
    "        self.a_flip = random.randint(0,1)\n",
    "        return self.a_flip\n",
    "    \n",
    "    \n",
    "    def re_flip(self, n):\n",
    "        for _ in range(n):\n",
    "            self.re_flips =  self.re_flips + [self.flip()]  \n",
    "            for x in self.re_flips:\n",
    "                if x == 0:\n",
    "                    self.heads = self.heads + 1\n",
    "                elif x == 1:\n",
    "                    self.tails = self.tails + 1\n",
    "                else:\n",
    "                    pass    \n",
    "        return self.re_flips\n",
    "    \n",
    "    \n",
    "    \n",
    "    def face_list(self, collection):\n",
    "        self.faces = []\n",
    "        for value in collection:\n",
    "            if value == 0:\n",
    "                self.faces = self.faces + ['heads']\n",
    "            elif value == 1:\n",
    "                self.faces = self.faces + ['tails']\n",
    "            else:\n",
    "                pass\n",
    "    \n",
    "        return self.faces\n",
    "    \n",
    " \n",
    "    def ratio(self, collection):\n",
    "        new_data = self.face_list(collection)\n",
    "        heads = new_data.count('heads')\n",
    "        tails = new_data.count('tails')\n",
    "        ratio = heads / tails\n",
    "        return [ratio * x for x in self.re_flips]\n",
    "        \n",
    "\n",
    "\n"
   ]
  },
  {
   "cell_type": "code",
   "execution_count": 21,
   "metadata": {
    "collapsed": false
   },
   "outputs": [],
   "source": [
    "coin = Coin()\n",
    "\n",
    "flips = coin.re_flip(2**4)\n",
    "face_list = coin.face_list(flips)\n",
    "\n",
    "\n",
    "heads = coin.heads\n",
    "\n",
    "\n",
    "\n",
    "tails = coin.tails\n",
    "\n",
    "ratio = coin.ratio(flips)\n",
    "\n",
    "\n",
    "\n"
   ]
  },
  {
   "cell_type": "markdown",
   "metadata": {},
   "source": [
    "# Line Plot\n",
    "\n"
   ]
  },
  {
   "cell_type": "code",
   "execution_count": null,
   "metadata": {
    "collapsed": false
   },
   "outputs": [],
   "source": [
    "\n",
    "\n",
    "\n",
    "\n",
    "\n",
    "\n",
    "\n",
    "\n",
    "y1 = [coin.re_flip(2**0), coin.re_flip(2**2), coin.re_flip(2**4), coin.re_flip(2**8), coin.re_flip(2**12),coin.re_flip(2**16)]\n",
    "plt.plot(y1)\n",
    "\n",
    "\n",
    "plt.title(\"Difference in Heads and Tails\")\n",
    "plt.xscale(\"log\")\n",
    "plt.xlabel(\"Heads\")\n",
    "plt.ylabel(\"Tails\")\n",
    "plt.show()\n",
    "\n",
    "\n",
    "\n"
   ]
  },
  {
   "cell_type": "code",
   "execution_count": 27,
   "metadata": {
    "collapsed": false
   },
   "outputs": [
    {
     "ename": "TypeError",
     "evalue": "scatter() missing 2 required positional arguments: 'x' and 'y'",
     "output_type": "error",
     "traceback": [
      "\u001b[0;31m---------------------------------------------------------------------------\u001b[0m",
      "\u001b[0;31mTypeError\u001b[0m                                 Traceback (most recent call last)",
      "\u001b[0;32m<ipython-input-27-01955456ea71>\u001b[0m in \u001b[0;36m<module>\u001b[0;34m()\u001b[0m\n\u001b[1;32m      2\u001b[0m \u001b[0;34m\u001b[0m\u001b[0m\n\u001b[1;32m      3\u001b[0m \u001b[0my2\u001b[0m \u001b[0;34m=\u001b[0m \u001b[0mcoin\u001b[0m\u001b[0;34m.\u001b[0m\u001b[0mratio\u001b[0m\u001b[0;34m\u001b[0m\u001b[0m\n\u001b[0;32m----> 4\u001b[0;31m \u001b[0mplt\u001b[0m\u001b[0;34m.\u001b[0m\u001b[0mscatter\u001b[0m\u001b[0;34m(\u001b[0m\u001b[0;34m)\u001b[0m\u001b[0;34m\u001b[0m\u001b[0m\n\u001b[0m\u001b[1;32m      5\u001b[0m \u001b[0mplt\u001b[0m\u001b[0;34m.\u001b[0m\u001b[0mscatter\u001b[0m\u001b[0;34m(\u001b[0m\u001b[0my2\u001b[0m\u001b[0;34m)\u001b[0m\u001b[0;34m\u001b[0m\u001b[0m\n\u001b[1;32m      6\u001b[0m \u001b[0mplt\u001b[0m\u001b[0;34m.\u001b[0m\u001b[0mtitle\u001b[0m\u001b[0;34m(\u001b[0m\u001b[0;34m\"Difference in Heads and Tails\"\u001b[0m\u001b[0;34m)\u001b[0m\u001b[0;34m\u001b[0m\u001b[0m\n",
      "\u001b[0;31mTypeError\u001b[0m: scatter() missing 2 required positional arguments: 'x' and 'y'"
     ]
    }
   ],
   "source": [
    "y1 = coin.re_flip(2**4)\n",
    "\n",
    "y2 = coin.ratio \n",
    "plt.scatter()\n",
    "plt.scatter(y2)\n",
    "plt.title(\"Difference in Heads and Tails\")\n",
    "plt.xscale(\"log\")\n",
    "\n",
    "plt.xlabel(\"Heads\")\n",
    "plt.ylabel(\"Tails\")\n",
    "plt.show()"
   ]
  },
  {
   "cell_type": "code",
   "execution_count": null,
   "metadata": {
    "collapsed": true
   },
   "outputs": [],
   "source": []
  }
 ],
 "metadata": {
  "kernelspec": {
   "display_name": "Python 3",
   "language": "python",
   "name": "python3"
  },
  "language_info": {
   "codemirror_mode": {
    "name": "ipython",
    "version": 3
   },
   "file_extension": ".py",
   "mimetype": "text/x-python",
   "name": "python",
   "nbconvert_exporter": "python",
   "pygments_lexer": "ipython3",
   "version": "3.4.2"
  }
 },
 "nbformat": 4,
 "nbformat_minor": 0
}
